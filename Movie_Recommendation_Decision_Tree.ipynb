{
 "cells": [
  {
   "cell_type": "markdown",
   "id": "acaf303c",
   "metadata": {},
   "source": [
    "# Decision Tree"
   ]
  },
  {
   "cell_type": "markdown",
   "id": "ea793274",
   "metadata": {},
   "source": [
    "Title - Movie Recommendation Engine\n",
    "Group no - 89\n",
    "Group Members  - Sathsarani H.A.D.  - EG/2020/4343\n",
    "                 Thennakoon G.H.M.  - EG/2020/4346"
   ]
  },
  {
   "cell_type": "code",
   "execution_count": 1,
   "id": "9f2861dd",
   "metadata": {},
   "outputs": [],
   "source": [
    "import pandas as pd"
   ]
  },
  {
   "cell_type": "code",
   "execution_count": 2,
   "id": "487a38d1",
   "metadata": {},
   "outputs": [],
   "source": [
    "#import movies dataset\n",
    "movies = pd.read_csv('movies.csv')"
   ]
  },
  {
   "cell_type": "code",
   "execution_count": 3,
   "id": "72a390bf",
   "metadata": {},
   "outputs": [
    {
     "data": {
      "text/html": [
       "<div>\n",
       "<style scoped>\n",
       "    .dataframe tbody tr th:only-of-type {\n",
       "        vertical-align: middle;\n",
       "    }\n",
       "\n",
       "    .dataframe tbody tr th {\n",
       "        vertical-align: top;\n",
       "    }\n",
       "\n",
       "    .dataframe thead th {\n",
       "        text-align: right;\n",
       "    }\n",
       "</style>\n",
       "<table border=\"1\" class=\"dataframe\">\n",
       "  <thead>\n",
       "    <tr style=\"text-align: right;\">\n",
       "      <th></th>\n",
       "      <th>movieId</th>\n",
       "      <th>title</th>\n",
       "      <th>genres</th>\n",
       "    </tr>\n",
       "  </thead>\n",
       "  <tbody>\n",
       "    <tr>\n",
       "      <th>0</th>\n",
       "      <td>1</td>\n",
       "      <td>Toy Story (1995)</td>\n",
       "      <td>Adventure|Animation|Children|Comedy|Fantasy</td>\n",
       "    </tr>\n",
       "    <tr>\n",
       "      <th>1</th>\n",
       "      <td>2</td>\n",
       "      <td>Jumanji (1995)</td>\n",
       "      <td>Adventure|Children|Fantasy</td>\n",
       "    </tr>\n",
       "    <tr>\n",
       "      <th>2</th>\n",
       "      <td>3</td>\n",
       "      <td>Grumpier Old Men (1995)</td>\n",
       "      <td>Comedy|Romance</td>\n",
       "    </tr>\n",
       "    <tr>\n",
       "      <th>3</th>\n",
       "      <td>4</td>\n",
       "      <td>Waiting to Exhale (1995)</td>\n",
       "      <td>Comedy|Drama|Romance</td>\n",
       "    </tr>\n",
       "    <tr>\n",
       "      <th>4</th>\n",
       "      <td>5</td>\n",
       "      <td>Father of the Bride Part II (1995)</td>\n",
       "      <td>Comedy</td>\n",
       "    </tr>\n",
       "  </tbody>\n",
       "</table>\n",
       "</div>"
      ],
      "text/plain": [
       "   movieId                               title  \\\n",
       "0        1                    Toy Story (1995)   \n",
       "1        2                      Jumanji (1995)   \n",
       "2        3             Grumpier Old Men (1995)   \n",
       "3        4            Waiting to Exhale (1995)   \n",
       "4        5  Father of the Bride Part II (1995)   \n",
       "\n",
       "                                        genres  \n",
       "0  Adventure|Animation|Children|Comedy|Fantasy  \n",
       "1                   Adventure|Children|Fantasy  \n",
       "2                               Comedy|Romance  \n",
       "3                         Comedy|Drama|Romance  \n",
       "4                                       Comedy  "
      ]
     },
     "execution_count": 3,
     "metadata": {},
     "output_type": "execute_result"
    }
   ],
   "source": [
    "movies.head()"
   ]
  },
  {
   "cell_type": "code",
   "execution_count": 4,
   "id": "f58ab80c",
   "metadata": {},
   "outputs": [
    {
     "data": {
      "text/plain": [
       "(9742, 3)"
      ]
     },
     "execution_count": 4,
     "metadata": {},
     "output_type": "execute_result"
    }
   ],
   "source": [
    "#no of rows and columns\n",
    "movies.shape"
   ]
  },
  {
   "cell_type": "code",
   "execution_count": 5,
   "id": "5f77057e",
   "metadata": {},
   "outputs": [
    {
     "data": {
      "text/plain": [
       "(100836, 4)"
      ]
     },
     "execution_count": 5,
     "metadata": {},
     "output_type": "execute_result"
    }
   ],
   "source": [
    "#import ratings dataset\n",
    "ratings = pd.read_csv('ratings.csv')\n",
    "\n",
    "ratings.shape"
   ]
  },
  {
   "cell_type": "code",
   "execution_count": 6,
   "id": "c0586821",
   "metadata": {},
   "outputs": [
    {
     "data": {
      "text/html": [
       "<div>\n",
       "<style scoped>\n",
       "    .dataframe tbody tr th:only-of-type {\n",
       "        vertical-align: middle;\n",
       "    }\n",
       "\n",
       "    .dataframe tbody tr th {\n",
       "        vertical-align: top;\n",
       "    }\n",
       "\n",
       "    .dataframe thead th {\n",
       "        text-align: right;\n",
       "    }\n",
       "</style>\n",
       "<table border=\"1\" class=\"dataframe\">\n",
       "  <thead>\n",
       "    <tr style=\"text-align: right;\">\n",
       "      <th></th>\n",
       "      <th>userId</th>\n",
       "      <th>movieId</th>\n",
       "      <th>rating</th>\n",
       "      <th>timestamp</th>\n",
       "    </tr>\n",
       "  </thead>\n",
       "  <tbody>\n",
       "    <tr>\n",
       "      <th>0</th>\n",
       "      <td>1</td>\n",
       "      <td>1</td>\n",
       "      <td>4.0</td>\n",
       "      <td>964982703</td>\n",
       "    </tr>\n",
       "    <tr>\n",
       "      <th>1</th>\n",
       "      <td>1</td>\n",
       "      <td>3</td>\n",
       "      <td>4.0</td>\n",
       "      <td>964981247</td>\n",
       "    </tr>\n",
       "    <tr>\n",
       "      <th>2</th>\n",
       "      <td>1</td>\n",
       "      <td>6</td>\n",
       "      <td>4.0</td>\n",
       "      <td>964982224</td>\n",
       "    </tr>\n",
       "    <tr>\n",
       "      <th>3</th>\n",
       "      <td>1</td>\n",
       "      <td>47</td>\n",
       "      <td>5.0</td>\n",
       "      <td>964983815</td>\n",
       "    </tr>\n",
       "    <tr>\n",
       "      <th>4</th>\n",
       "      <td>1</td>\n",
       "      <td>50</td>\n",
       "      <td>5.0</td>\n",
       "      <td>964982931</td>\n",
       "    </tr>\n",
       "  </tbody>\n",
       "</table>\n",
       "</div>"
      ],
      "text/plain": [
       "   userId  movieId  rating  timestamp\n",
       "0       1        1     4.0  964982703\n",
       "1       1        3     4.0  964981247\n",
       "2       1        6     4.0  964982224\n",
       "3       1       47     5.0  964983815\n",
       "4       1       50     5.0  964982931"
      ]
     },
     "execution_count": 6,
     "metadata": {},
     "output_type": "execute_result"
    }
   ],
   "source": [
    "ratings.head()"
   ]
  },
  {
   "cell_type": "code",
   "execution_count": 7,
   "id": "338411c5",
   "metadata": {},
   "outputs": [],
   "source": [
    "#The new column 'year' is created by extracting the year from the column 'title', using the str.extract() function.\n",
    "#the regular expression 'r'\\((\\d{4})\\' specifies:\n",
    "# \\d{4}: 4 digits\n",
    "# (\\d{4}): capture 4 digits\n",
    "# \\((\\d{4})\\: Capture 4 digits inside parentheses in text\n",
    "\n",
    "movies['year']=movies['title'].str.extract(r'\\((\\d{4})\\)')"
   ]
  },
  {
   "cell_type": "code",
   "execution_count": 8,
   "id": "5bd4ec6a",
   "metadata": {},
   "outputs": [],
   "source": [
    "#Converts the 'year' column to a numeric value. Values that are not are transformed into 'NaN'.\n",
    "\n",
    "movies['year']=pd.to_numeric(movies['year'], errors='coerce')\n",
    "\n",
    "#A range of years is established, converting those that fall outside this range into 'NaN'.\n",
    "\n",
    "import numpy as np\n",
    "movies.loc[(movies['year'] < 1900) | (movies['year'] > 2023), 'year']=np.nan\n",
    "\n",
    "#The number of films that do not contain information about the year is added.\n",
    "\n",
    "missing_year_count=movies['year'].isna().sum()"
   ]
  },
  {
   "cell_type": "code",
   "execution_count": 9,
   "id": "8bc8a554",
   "metadata": {},
   "outputs": [
    {
     "name": "stdout",
     "output_type": "stream",
     "text": [
      "      movieId                                              title  \\\n",
      "6059    40697                                          Babylon 5   \n",
      "9031   140956                                   Ready Player One   \n",
      "9091   143410                                         Hyena Road   \n",
      "9138   147250  The Adventures of Sherlock Holmes and Doctor W...   \n",
      "9179   149334                                  Nocturnal Animals   \n",
      "9259   156605                                           Paterson   \n",
      "9367   162414                                          Moonlight   \n",
      "9448   167570                                             The OA   \n",
      "9514   171495                                             Cosmos   \n",
      "9515   171631                            Maria Bamford: Old Baby   \n",
      "9518   171749                  Death Note: Desu nôto (2006–2007)   \n",
      "9525   171891                                  Generation Iron 2   \n",
      "9611   176601                                       Black Mirror   \n",
      "\n",
      "                      genres  year  \n",
      "6059                  Sci-Fi   NaN  \n",
      "9031  Action|Sci-Fi|Thriller   NaN  \n",
      "9091      (no genres listed)   NaN  \n",
      "9138      (no genres listed)   NaN  \n",
      "9179          Drama|Thriller   NaN  \n",
      "9259      (no genres listed)   NaN  \n",
      "9367                   Drama   NaN  \n",
      "9448      (no genres listed)   NaN  \n",
      "9514      (no genres listed)   NaN  \n",
      "9515      (no genres listed)   NaN  \n",
      "9518      (no genres listed)   NaN  \n",
      "9525      (no genres listed)   NaN  \n",
      "9611      (no genres listed)   NaN  \n"
     ]
    }
   ],
   "source": [
    "#Rows whose movies do not contain year information are displayed.\n",
    "\n",
    "missing_year_rows=movies[movies['year'].isna()]\n",
    "print(missing_year_rows)"
   ]
  },
  {
   "cell_type": "code",
   "execution_count": 10,
   "id": "033b2228",
   "metadata": {},
   "outputs": [
    {
     "name": "stdout",
     "output_type": "stream",
     "text": [
      "0       Adventure\n",
      "1       Adventure\n",
      "2          Comedy\n",
      "3          Comedy\n",
      "4          Comedy\n",
      "          ...    \n",
      "9737       Action\n",
      "9738    Animation\n",
      "9739        Drama\n",
      "9740       Action\n",
      "9741       Comedy\n",
      "Name: first_genre, Length: 9742, dtype: object\n"
     ]
    }
   ],
   "source": [
    "#We are left with only the first gender in the 'genres' column\n",
    "\n",
    "movies['first_genre']=movies['genres'].str.split('|').str[0]\n",
    "print(movies['first_genre'])"
   ]
  },
  {
   "cell_type": "code",
   "execution_count": 11,
   "id": "9f67fa39",
   "metadata": {},
   "outputs": [
    {
     "data": {
      "text/html": [
       "<div>\n",
       "<style scoped>\n",
       "    .dataframe tbody tr th:only-of-type {\n",
       "        vertical-align: middle;\n",
       "    }\n",
       "\n",
       "    .dataframe tbody tr th {\n",
       "        vertical-align: top;\n",
       "    }\n",
       "\n",
       "    .dataframe thead th {\n",
       "        text-align: right;\n",
       "    }\n",
       "</style>\n",
       "<table border=\"1\" class=\"dataframe\">\n",
       "  <thead>\n",
       "    <tr style=\"text-align: right;\">\n",
       "      <th></th>\n",
       "      <th>movieId</th>\n",
       "      <th>title</th>\n",
       "      <th>genres</th>\n",
       "      <th>year</th>\n",
       "      <th>first_genre</th>\n",
       "    </tr>\n",
       "  </thead>\n",
       "  <tbody>\n",
       "    <tr>\n",
       "      <th>0</th>\n",
       "      <td>1</td>\n",
       "      <td>Toy Story (1995)</td>\n",
       "      <td>Adventure|Animation|Children|Comedy|Fantasy</td>\n",
       "      <td>1995.0</td>\n",
       "      <td>Adventure</td>\n",
       "    </tr>\n",
       "    <tr>\n",
       "      <th>1</th>\n",
       "      <td>2</td>\n",
       "      <td>Jumanji (1995)</td>\n",
       "      <td>Adventure|Children|Fantasy</td>\n",
       "      <td>1995.0</td>\n",
       "      <td>Adventure</td>\n",
       "    </tr>\n",
       "    <tr>\n",
       "      <th>2</th>\n",
       "      <td>3</td>\n",
       "      <td>Grumpier Old Men (1995)</td>\n",
       "      <td>Comedy|Romance</td>\n",
       "      <td>1995.0</td>\n",
       "      <td>Comedy</td>\n",
       "    </tr>\n",
       "    <tr>\n",
       "      <th>3</th>\n",
       "      <td>4</td>\n",
       "      <td>Waiting to Exhale (1995)</td>\n",
       "      <td>Comedy|Drama|Romance</td>\n",
       "      <td>1995.0</td>\n",
       "      <td>Comedy</td>\n",
       "    </tr>\n",
       "    <tr>\n",
       "      <th>4</th>\n",
       "      <td>5</td>\n",
       "      <td>Father of the Bride Part II (1995)</td>\n",
       "      <td>Comedy</td>\n",
       "      <td>1995.0</td>\n",
       "      <td>Comedy</td>\n",
       "    </tr>\n",
       "  </tbody>\n",
       "</table>\n",
       "</div>"
      ],
      "text/plain": [
       "   movieId                               title  \\\n",
       "0        1                    Toy Story (1995)   \n",
       "1        2                      Jumanji (1995)   \n",
       "2        3             Grumpier Old Men (1995)   \n",
       "3        4            Waiting to Exhale (1995)   \n",
       "4        5  Father of the Bride Part II (1995)   \n",
       "\n",
       "                                        genres    year first_genre  \n",
       "0  Adventure|Animation|Children|Comedy|Fantasy  1995.0   Adventure  \n",
       "1                   Adventure|Children|Fantasy  1995.0   Adventure  \n",
       "2                               Comedy|Romance  1995.0      Comedy  \n",
       "3                         Comedy|Drama|Romance  1995.0      Comedy  \n",
       "4                                       Comedy  1995.0      Comedy  "
      ]
     },
     "execution_count": 11,
     "metadata": {},
     "output_type": "execute_result"
    }
   ],
   "source": [
    "movies.head()"
   ]
  },
  {
   "cell_type": "code",
   "execution_count": 12,
   "id": "5a414e25",
   "metadata": {},
   "outputs": [],
   "source": [
    "#The average score per movie from the 'ratings' dataset is calculated\n",
    "\n",
    "avg_ratings=ratings.groupby('movieId')['rating'].mean().reset_index()\n",
    "\n",
    "#Rename 'rating' column to 'avg_ratings' for clarity\n",
    "\n",
    "avg_ratings=avg_ratings.rename(columns={'rating': 'avg_ratings'})\n",
    "\n",
    "\n",
    "#Rounded to 2 decimal places\n",
    "\n",
    "avg_ratings=round(avg_ratings,2)\n"
   ]
  },
  {
   "cell_type": "code",
   "execution_count": 13,
   "id": "e87247bf",
   "metadata": {},
   "outputs": [
    {
     "name": "stdout",
     "output_type": "stream",
     "text": [
      "      movieId                                      title  \\\n",
      "0           1                           Toy Story (1995)   \n",
      "1           2                             Jumanji (1995)   \n",
      "2           3                    Grumpier Old Men (1995)   \n",
      "3           4                   Waiting to Exhale (1995)   \n",
      "4           5         Father of the Bride Part II (1995)   \n",
      "...       ...                                        ...   \n",
      "9737   193581  Black Butler: Book of the Atlantic (2017)   \n",
      "9738   193583               No Game No Life: Zero (2017)   \n",
      "9739   193585                               Flint (2017)   \n",
      "9740   193587        Bungo Stray Dogs: Dead Apple (2018)   \n",
      "9741   193609        Andrew Dice Clay: Dice Rules (1991)   \n",
      "\n",
      "                                           genres    year first_genre  \\\n",
      "0     Adventure|Animation|Children|Comedy|Fantasy  1995.0   Adventure   \n",
      "1                      Adventure|Children|Fantasy  1995.0   Adventure   \n",
      "2                                  Comedy|Romance  1995.0      Comedy   \n",
      "3                            Comedy|Drama|Romance  1995.0      Comedy   \n",
      "4                                          Comedy  1995.0      Comedy   \n",
      "...                                           ...     ...         ...   \n",
      "9737              Action|Animation|Comedy|Fantasy  2017.0      Action   \n",
      "9738                     Animation|Comedy|Fantasy  2017.0   Animation   \n",
      "9739                                        Drama  2017.0       Drama   \n",
      "9740                             Action|Animation  2018.0      Action   \n",
      "9741                                       Comedy  1991.0      Comedy   \n",
      "\n",
      "      avg_ratings  \n",
      "0            3.92  \n",
      "1            3.43  \n",
      "2            3.26  \n",
      "3            2.36  \n",
      "4            3.07  \n",
      "...           ...  \n",
      "9737         4.00  \n",
      "9738         3.50  \n",
      "9739         3.50  \n",
      "9740         3.50  \n",
      "9741         4.00  \n",
      "\n",
      "[9742 rows x 6 columns]\n"
     ]
    }
   ],
   "source": [
    "#Merge the 'movie' and \"avg_ratings\" dataframes using the 'movieId' column\n",
    "\n",
    "movie=pd.merge(movies, avg_ratings, on='movieId', how='left')\n",
    "print(movie)"
   ]
  },
  {
   "cell_type": "code",
   "execution_count": 14,
   "id": "e268c4f8",
   "metadata": {},
   "outputs": [
    {
     "name": "stdout",
     "output_type": "stream",
     "text": [
      "18\n"
     ]
    }
   ],
   "source": [
    "#Films without rating\n",
    "\n",
    "no_ratings=movie['avg_ratings'].isnull().sum()\n",
    "print(no_ratings)"
   ]
  },
  {
   "cell_type": "code",
   "execution_count": 15,
   "id": "e6098df2",
   "metadata": {},
   "outputs": [
    {
     "name": "stdout",
     "output_type": "stream",
     "text": [
      "      movieId                                      title  \\\n",
      "0           1                           Toy Story (1995)   \n",
      "1           2                             Jumanji (1995)   \n",
      "2           3                    Grumpier Old Men (1995)   \n",
      "3           4                   Waiting to Exhale (1995)   \n",
      "4           5         Father of the Bride Part II (1995)   \n",
      "...       ...                                        ...   \n",
      "9737   193581  Black Butler: Book of the Atlantic (2017)   \n",
      "9738   193583               No Game No Life: Zero (2017)   \n",
      "9739   193585                               Flint (2017)   \n",
      "9740   193587        Bungo Stray Dogs: Dead Apple (2018)   \n",
      "9741   193609        Andrew Dice Clay: Dice Rules (1991)   \n",
      "\n",
      "                                           genres    year first_genre  \\\n",
      "0     Adventure|Animation|Children|Comedy|Fantasy  1995.0   Adventure   \n",
      "1                      Adventure|Children|Fantasy  1995.0   Adventure   \n",
      "2                                  Comedy|Romance  1995.0      Comedy   \n",
      "3                            Comedy|Drama|Romance  1995.0      Comedy   \n",
      "4                                          Comedy  1995.0      Comedy   \n",
      "...                                           ...     ...         ...   \n",
      "9737              Action|Animation|Comedy|Fantasy  2017.0      Action   \n",
      "9738                     Animation|Comedy|Fantasy  2017.0   Animation   \n",
      "9739                                        Drama  2017.0       Drama   \n",
      "9740                             Action|Animation  2018.0      Action   \n",
      "9741                                       Comedy  1991.0      Comedy   \n",
      "\n",
      "      avg_ratings  \n",
      "0            3.92  \n",
      "1            3.43  \n",
      "2            3.26  \n",
      "3            2.36  \n",
      "4            3.07  \n",
      "...           ...  \n",
      "9737         4.00  \n",
      "9738         3.50  \n",
      "9739         3.50  \n",
      "9740         3.50  \n",
      "9741         4.00  \n",
      "\n",
      "[9742 rows x 6 columns]\n"
     ]
    }
   ],
   "source": [
    "#They are assigned a value of 0\n",
    "\n",
    "no_ratings=movie['avg_ratings'].fillna(0)\n",
    "print(movie)"
   ]
  },
  {
   "cell_type": "code",
   "execution_count": 16,
   "id": "dcdd79c4",
   "metadata": {},
   "outputs": [],
   "source": [
    "#The number of ratings that each movie has is calculated.\n",
    "\n",
    "count_ratings=ratings.groupby('movieId')['rating'].count().reset_index()"
   ]
  },
  {
   "cell_type": "code",
   "execution_count": 17,
   "id": "f157dc16",
   "metadata": {},
   "outputs": [
    {
     "name": "stdout",
     "output_type": "stream",
     "text": [
      "      movieId  count_ratings\n",
      "0           1            215\n",
      "1           2            110\n",
      "2           3             52\n",
      "3           4              7\n",
      "4           5             49\n",
      "...       ...            ...\n",
      "9719   193581              1\n",
      "9720   193583              1\n",
      "9721   193585              1\n",
      "9722   193587              1\n",
      "9723   193609              1\n",
      "\n",
      "[9724 rows x 2 columns]\n"
     ]
    }
   ],
   "source": [
    "#Rename 'rating' column to 'count_ratings' for clarity\n",
    "count_ratings=count_ratings.rename(columns={'rating': 'count_ratings'})\n",
    "print(count_ratings)"
   ]
  },
  {
   "cell_type": "code",
   "execution_count": 18,
   "id": "c5ca0965",
   "metadata": {},
   "outputs": [
    {
     "name": "stdout",
     "output_type": "stream",
     "text": [
      "      movieId                                      title  \\\n",
      "0           1                           Toy Story (1995)   \n",
      "1           2                             Jumanji (1995)   \n",
      "2           3                    Grumpier Old Men (1995)   \n",
      "3           4                   Waiting to Exhale (1995)   \n",
      "4           5         Father of the Bride Part II (1995)   \n",
      "...       ...                                        ...   \n",
      "9737   193581  Black Butler: Book of the Atlantic (2017)   \n",
      "9738   193583               No Game No Life: Zero (2017)   \n",
      "9739   193585                               Flint (2017)   \n",
      "9740   193587        Bungo Stray Dogs: Dead Apple (2018)   \n",
      "9741   193609        Andrew Dice Clay: Dice Rules (1991)   \n",
      "\n",
      "                                           genres    year first_genre  \\\n",
      "0     Adventure|Animation|Children|Comedy|Fantasy  1995.0   Adventure   \n",
      "1                      Adventure|Children|Fantasy  1995.0   Adventure   \n",
      "2                                  Comedy|Romance  1995.0      Comedy   \n",
      "3                            Comedy|Drama|Romance  1995.0      Comedy   \n",
      "4                                          Comedy  1995.0      Comedy   \n",
      "...                                           ...     ...         ...   \n",
      "9737              Action|Animation|Comedy|Fantasy  2017.0      Action   \n",
      "9738                     Animation|Comedy|Fantasy  2017.0   Animation   \n",
      "9739                                        Drama  2017.0       Drama   \n",
      "9740                             Action|Animation  2018.0      Action   \n",
      "9741                                       Comedy  1991.0      Comedy   \n",
      "\n",
      "      avg_ratings  count_ratings  \n",
      "0            3.92          215.0  \n",
      "1            3.43          110.0  \n",
      "2            3.26           52.0  \n",
      "3            2.36            7.0  \n",
      "4            3.07           49.0  \n",
      "...           ...            ...  \n",
      "9737         4.00            1.0  \n",
      "9738         3.50            1.0  \n",
      "9739         3.50            1.0  \n",
      "9740         3.50            1.0  \n",
      "9741         4.00            1.0  \n",
      "\n",
      "[9742 rows x 7 columns]\n"
     ]
    }
   ],
   "source": [
    "#Merge 'movie' and \"count_ratings\" dataframes using 'movieId' column\n",
    "\n",
    "movie=pd.merge(movie, count_ratings, on='movieId', how='left')\n",
    "print(movie)"
   ]
  },
  {
   "cell_type": "code",
   "execution_count": 19,
   "id": "ef0a18f3",
   "metadata": {},
   "outputs": [
    {
     "data": {
      "image/png": "[encoded data removed]",
      "text/plain": [
       "<Figure size 640x480 with 1 Axes>"
      ]
     },
     "metadata": {},
     "output_type": "display_data"
    }
   ],
   "source": [
    "import matplotlib.pyplot as plt\n",
    "\n",
    "#The average score is calculated per year\n",
    "\n",
    "mean_ratings_by_year=movie.groupby('year')['avg_ratings'].mean().reset_index()\n",
    "\n",
    "\n",
    "#It is ordered from largest to smallest\n",
    "\n",
    "mean_ratings_by_year=mean_ratings_by_year.sort_values(by='avg_ratings', ascending=False)\n",
    "\n",
    "\n",
    "#The top10 is calculated\n",
    "\n",
    "top10_ratings=mean_ratings_by_year.head(10)\n",
    "\n",
    "\n",
    "#The barplot is plotted\n",
    "\n",
    "plt.bar(top10_ratings['year'], top10_ratings['avg_ratings'])\n",
    "plt.xlabel('Year')\n",
    "plt.ylabel('Average Score')\n",
    "plt.title('Top 10')\n",
    "plt.show()\n"
   ]
  },
  {
   "cell_type": "code",
   "execution_count": 21,
   "id": "e8ef409c",
   "metadata": {},
   "outputs": [
    {
     "name": "stdout",
     "output_type": "stream",
     "text": [
      "Film-Noir\n"
     ]
    }
   ],
   "source": [
    "#The average score is calculated by gender.\n",
    "mean_by_genres=movie.groupby('first_genre')['avg_ratings'].mean()\n",
    "\n",
    "#The genre with the highest average score is obtained\n",
    "max_genres=mean_by_genres.idxmax()\n",
    "print(max_genres)\n"
   ]
  },
  {
   "cell_type": "code",
   "execution_count": 22,
   "id": "a2e42e67",
   "metadata": {},
   "outputs": [
    {
     "name": "stdout",
     "output_type": "stream",
     "text": [
      "Horror\n"
     ]
    }
   ],
   "source": [
    "#and the one with the lowest average score\n",
    "min_genres=mean_by_genres.idxmin()\n",
    "print(min_genres)"
   ]
  },
  {
   "cell_type": "code",
   "execution_count": 23,
   "id": "40018201",
   "metadata": {},
   "outputs": [
    {
     "name": "stdout",
     "output_type": "stream",
     "text": [
      "Forrest Gump (1994)\n",
      "329.0\n"
     ]
    }
   ],
   "source": [
    "#The movie with the highest number of ratings is obtained.\n",
    "idxmax=movie['count_ratings'].idxmax()\n",
    "\n",
    "#You get your degree\n",
    "title_max_ratings=movie.loc[idxmax, 'title']\n",
    "print(title_max_ratings)\n",
    "\n",
    "#and its rating\n",
    "max_value=movie['count_ratings'].max()\n",
    "print(max_value)"
   ]
  },
  {
   "cell_type": "code",
   "execution_count": 24,
   "id": "de18562e",
   "metadata": {},
   "outputs": [
    {
     "name": "stdout",
     "output_type": "stream",
     "text": [
      "      movieId    year first_genre  avg_ratings  count_ratings\n",
      "0           1  1995.0   Adventure         3.92          215.0\n",
      "1           2  1995.0   Adventure         3.43          110.0\n",
      "2           3  1995.0      Comedy         3.26           52.0\n",
      "3           4  1995.0      Comedy         2.36            7.0\n",
      "4           5  1995.0      Comedy         3.07           49.0\n",
      "...       ...     ...         ...          ...            ...\n",
      "9737   193581  2017.0      Action         4.00            1.0\n",
      "9738   193583  2017.0   Animation         3.50            1.0\n",
      "9739   193585  2017.0       Drama         3.50            1.0\n",
      "9740   193587  2018.0      Action         3.50            1.0\n",
      "9741   193609  1991.0      Comedy         4.00            1.0\n",
      "\n",
      "[9742 rows x 5 columns]\n"
     ]
    }
   ],
   "source": [
    "movie=movie[['movieId', 'year', 'first_genre', 'avg_ratings', 'count_ratings']]\n",
    "print(movie)"
   ]
  },
  {
   "cell_type": "code",
   "execution_count": 25,
   "id": "7fac096c",
   "metadata": {},
   "outputs": [
    {
     "name": "stdout",
     "output_type": "stream",
     "text": [
      "movieId           0\n",
      "year             13\n",
      "first_genre       0\n",
      "avg_ratings      18\n",
      "count_ratings    18\n",
      "dtype: int64\n"
     ]
    }
   ],
   "source": [
    "#The number of NaNs of 'movie' is checked\n",
    "\n",
    "nan_check=movie.isna().sum()\n",
    "print(nan_check)"
   ]
  },
  {
   "cell_type": "code",
   "execution_count": 26,
   "id": "3a45575d",
   "metadata": {},
   "outputs": [
    {
     "name": "stdout",
     "output_type": "stream",
     "text": [
      "movieId          0\n",
      "year             0\n",
      "first_genre      0\n",
      "avg_ratings      0\n",
      "count_ratings    0\n",
      "dtype: int64\n"
     ]
    }
   ],
   "source": [
    "#We proceed to imputate NaN values with the mean\n",
    "movie['avg_ratings'] = movie['avg_ratings'].fillna(movie['avg_ratings'].mean())\n",
    "movie['count_ratings'] = movie['count_ratings'].fillna(movie['count_ratings'].mean())\n",
    "\n",
    "#The rows that contain Nan values in 'year' are deleted.\n",
    "movie=movie.dropna(subset=['year'])\n",
    "\n",
    "#The number of NaNs is checked\n",
    "nan_check=movie.isna().sum()\n",
    "print(nan_check)\n"
   ]
  },
  {
   "cell_type": "code",
   "execution_count": 28,
   "id": "4a3d0b8a",
   "metadata": {},
   "outputs": [
    {
     "name": "stdout",
     "output_type": "stream",
     "text": [
      "      movieId    year  avg_ratings  count_ratings  \\\n",
      "0           1  1995.0         3.92          215.0   \n",
      "1           2  1995.0         3.43          110.0   \n",
      "2           3  1995.0         3.26           52.0   \n",
      "3           4  1995.0         2.36            7.0   \n",
      "4           5  1995.0         3.07           49.0   \n",
      "...       ...     ...          ...            ...   \n",
      "9737   193581  2017.0         4.00            1.0   \n",
      "9738   193583  2017.0         3.50            1.0   \n",
      "9739   193585  2017.0         3.50            1.0   \n",
      "9740   193587  2018.0         3.50            1.0   \n",
      "9741   193609  1991.0         4.00            1.0   \n",
      "\n",
      "      first_genre_(no genres listed)  first_genre_Action  \\\n",
      "0                              False               False   \n",
      "1                              False               False   \n",
      "2                              False               False   \n",
      "3                              False               False   \n",
      "4                              False               False   \n",
      "...                              ...                 ...   \n",
      "9737                           False                True   \n",
      "9738                           False               False   \n",
      "9739                           False               False   \n",
      "9740                           False                True   \n",
      "9741                           False               False   \n",
      "\n",
      "      first_genre_Adventure  first_genre_Animation  first_genre_Children  \\\n",
      "0                      True                  False                 False   \n",
      "1                      True                  False                 False   \n",
      "2                     False                  False                 False   \n",
      "3                     False                  False                 False   \n",
      "4                     False                  False                 False   \n",
      "...                     ...                    ...                   ...   \n",
      "9737                  False                  False                 False   \n",
      "9738                  False                   True                 False   \n",
      "9739                  False                  False                 False   \n",
      "9740                  False                  False                 False   \n",
      "9741                  False                  False                 False   \n",
      "\n",
      "      first_genre_Comedy  ...  first_genre_Fantasy  first_genre_Film-Noir  \\\n",
      "0                  False  ...                False                  False   \n",
      "1                  False  ...                False                  False   \n",
      "2                   True  ...                False                  False   \n",
      "3                   True  ...                False                  False   \n",
      "4                   True  ...                False                  False   \n",
      "...                  ...  ...                  ...                    ...   \n",
      "9737               False  ...                False                  False   \n",
      "9738               False  ...                False                  False   \n",
      "9739               False  ...                False                  False   \n",
      "9740               False  ...                False                  False   \n",
      "9741                True  ...                False                  False   \n",
      "\n",
      "      first_genre_Horror  first_genre_Musical  first_genre_Mystery  \\\n",
      "0                  False                False                False   \n",
      "1                  False                False                False   \n",
      "2                  False                False                False   \n",
      "3                  False                False                False   \n",
      "4                  False                False                False   \n",
      "...                  ...                  ...                  ...   \n",
      "9737               False                False                False   \n",
      "9738               False                False                False   \n",
      "9739               False                False                False   \n",
      "9740               False                False                False   \n",
      "9741               False                False                False   \n",
      "\n",
      "      first_genre_Romance  first_genre_Sci-Fi  first_genre_Thriller  \\\n",
      "0                   False               False                 False   \n",
      "1                   False               False                 False   \n",
      "2                   False               False                 False   \n",
      "3                   False               False                 False   \n",
      "4                   False               False                 False   \n",
      "...                   ...                 ...                   ...   \n",
      "9737                False               False                 False   \n",
      "9738                False               False                 False   \n",
      "9739                False               False                 False   \n",
      "9740                False               False                 False   \n",
      "9741                False               False                 False   \n",
      "\n",
      "      first_genre_War  first_genre_Western  \n",
      "0               False                False  \n",
      "1               False                False  \n",
      "2               False                False  \n",
      "3               False                False  \n",
      "4               False                False  \n",
      "...               ...                  ...  \n",
      "9737            False                False  \n",
      "9738            False                False  \n",
      "9739            False                False  \n",
      "9740            False                False  \n",
      "9741            False                False  \n",
      "\n",
      "[9729 rows x 23 columns]\n"
     ]
    }
   ],
   "source": [
    "#Convert the categorical variable 'first_genre' into a numeric variable, using the get_dummies() function\n",
    "movie_encoded=pd.get_dummies(movie, columns=['first_genre'])\n",
    "print(movie_encoded)"
   ]
  },
  {
   "cell_type": "code",
   "execution_count": 29,
   "id": "b0b29994",
   "metadata": {},
   "outputs": [
    {
     "name": "stdout",
     "output_type": "stream",
     "text": [
      "[[0.00000000e+00 8.01724138e-01 7.60000000e-01 ... 0.00000000e+00\n",
      "  0.00000000e+00 0.00000000e+00]\n",
      " [5.16507582e-06 8.01724138e-01 6.51111111e-01 ... 0.00000000e+00\n",
      "  0.00000000e+00 0.00000000e+00]\n",
      " [1.03301516e-05 8.01724138e-01 6.13333333e-01 ... 0.00000000e+00\n",
      "  0.00000000e+00 0.00000000e+00]\n",
      " ...\n",
      " [9.99876038e-01 9.91379310e-01 6.66666667e-01 ... 0.00000000e+00\n",
      "  0.00000000e+00 0.00000000e+00]\n",
      " [9.99886368e-01 1.00000000e+00 6.66666667e-01 ... 0.00000000e+00\n",
      "  0.00000000e+00 0.00000000e+00]\n",
      " [1.00000000e+00 7.67241379e-01 7.77777778e-01 ... 0.00000000e+00\n",
      "  0.00000000e+00 0.00000000e+00]]\n"
     ]
    }
   ],
   "source": [
    "from sklearn.preprocessing import MinMaxScaler\n",
    "\n",
    "#An instance is created with the MinMaxScaler() function\n",
    "scaler=MinMaxScaler()\n",
    "\n",
    "#The fit_transform() function is used to normalize the numerical data\n",
    "norm_movie_encoded=scaler.fit_transform(movie_encoded)\n",
    "print(norm_movie_encoded)\n"
   ]
  },
  {
   "cell_type": "code",
   "execution_count": 30,
   "id": "513cfef4",
   "metadata": {},
   "outputs": [],
   "source": [
    "from sklearn.tree import DecisionTreeRegressor\n",
    "from sklearn.model_selection import train_test_split\n",
    "from sklearn.metrics import mean_squared_error\n"
   ]
  },
  {
   "cell_type": "code",
   "execution_count": 31,
   "id": "fa8c7c2b",
   "metadata": {},
   "outputs": [],
   "source": [
    "# Features (X) and target variable (y)\n",
    "X = movie_encoded.drop(['avg_ratings'], axis=1)  # Features\n",
    "y = movie_encoded['avg_ratings']  # Target variable\n"
   ]
  },
  {
   "cell_type": "code",
   "execution_count": 32,
   "id": "da48f15e",
   "metadata": {},
   "outputs": [],
   "source": [
    "# Split the data into training and testing sets\n",
    "X_train, X_test, y_train, y_test = train_test_split(X, y, test_size=0.2, random_state=42)\n"
   ]
  },
  {
   "cell_type": "code",
   "execution_count": 33,
   "id": "b999c642",
   "metadata": {},
   "outputs": [],
   "source": [
    "# Create a Decision Tree Regressor\n",
    "dt_regressor = DecisionTreeRegressor(random_state=42)\n"
   ]
  },
  {
   "cell_type": "code",
   "execution_count": 34,
   "id": "76f09b2d",
   "metadata": {},
   "outputs": [
    {
     "data": {
      "text/html": [
       "<style>#sk-container-id-1 {color: black;}#sk-container-id-1 pre{padding: 0;}#sk-container-id-1 div.sk-toggleable {background-color: white;}#sk-container-id-1 label.sk-toggleable__label {cursor: pointer;display: block;width: 100%;margin-bottom: 0;padding: 0.3em;box-sizing: border-box;text-align: center;}#sk-container-id-1 label.sk-toggleable__label-arrow:before {content: \"▸\";float: left;margin-right: 0.25em;color: #696969;}#sk-container-id-1 label.sk-toggleable__label-arrow:hover:before {color: black;}#sk-container-id-1 div.sk-estimator:hover label.sk-toggleable__label-arrow:before {color: black;}#sk-container-id-1 div.sk-toggleable__content {max-height: 0;max-width: 0;overflow: hidden;text-align: left;background-color: #f0f8ff;}#sk-container-id-1 div.sk-toggleable__content pre {margin: 0.2em;color: black;border-radius: 0.25em;background-color: #f0f8ff;}#sk-container-id-1 input.sk-toggleable__control:checked~div.sk-toggleable__content {max-height: 200px;max-width: 100%;overflow: auto;}#sk-container-id-1 input.sk-toggleable__control:checked~label.sk-toggleable__label-arrow:before {content: \"▾\";}#sk-container-id-1 div.sk-estimator input.sk-toggleable__control:checked~label.sk-toggleable__label {background-color: #d4ebff;}#sk-container-id-1 div.sk-label input.sk-toggleable__control:checked~label.sk-toggleable__label {background-color: #d4ebff;}#sk-container-id-1 input.sk-hidden--visually {border: 0;clip: rect(1px 1px 1px 1px);clip: rect(1px, 1px, 1px, 1px);height: 1px;margin: -1px;overflow: hidden;padding: 0;position: absolute;width: 1px;}#sk-container-id-1 div.sk-estimator {font-family: monospace;background-color: #f0f8ff;border: 1px dotted black;border-radius: 0.25em;box-sizing: border-box;margin-bottom: 0.5em;}#sk-container-id-1 div.sk-estimator:hover {background-color: #d4ebff;}#sk-container-id-1 div.sk-parallel-item::after {content: \"\";width: 100%;border-bottom: 1px solid gray;flex-grow: 1;}#sk-container-id-1 div.sk-label:hover label.sk-toggleable__label {background-color: #d4ebff;}#sk-container-id-1 div.sk-serial::before {content: \"\";position: absolute;border-left: 1px solid gray;box-sizing: border-box;top: 0;bottom: 0;left: 50%;z-index: 0;}#sk-container-id-1 div.sk-serial {display: flex;flex-direction: column;align-items: center;background-color: white;padding-right: 0.2em;padding-left: 0.2em;position: relative;}#sk-container-id-1 div.sk-item {position: relative;z-index: 1;}#sk-container-id-1 div.sk-parallel {display: flex;align-items: stretch;justify-content: center;background-color: white;position: relative;}#sk-container-id-1 div.sk-item::before, #sk-container-id-1 div.sk-parallel-item::before {content: \"\";position: absolute;border-left: 1px solid gray;box-sizing: border-box;top: 0;bottom: 0;left: 50%;z-index: -1;}#sk-container-id-1 div.sk-parallel-item {display: flex;flex-direction: column;z-index: 1;position: relative;background-color: white;}#sk-container-id-1 div.sk-parallel-item:first-child::after {align-self: flex-end;width: 50%;}#sk-container-id-1 div.sk-parallel-item:last-child::after {align-self: flex-start;width: 50%;}#sk-container-id-1 div.sk-parallel-item:only-child::after {width: 0;}#sk-container-id-1 div.sk-dashed-wrapped {border: 1px dashed gray;margin: 0 0.4em 0.5em 0.4em;box-sizing: border-box;padding-bottom: 0.4em;background-color: white;}#sk-container-id-1 div.sk-label label {font-family: monospace;font-weight: bold;display: inline-block;line-height: 1.2em;}#sk-container-id-1 div.sk-label-container {text-align: center;}#sk-container-id-1 div.sk-container {/* jupyter's `normalize.less` sets `[hidden] { display: none; }` but bootstrap.min.css set `[hidden] { display: none !important; }` so we also need the `!important` here to be able to override the default hidden behavior on the sphinx rendered scikit-learn.org. See: https://github.com/scikit-learn/scikit-learn/issues/21755 */display: inline-block !important;position: relative;}#sk-container-id-1 div.sk-text-repr-fallback {display: none;}</style><div id=\"sk-container-id-1\" class=\"sk-top-container\"><div class=\"sk-text-repr-fallback\"><pre>DecisionTreeRegressor(random_state=42)</pre><b>In a Jupyter environment, please rerun this cell to show the HTML representation or trust the notebook. <br />On GitHub, the HTML representation is unable to render, please try loading this page with nbviewer.org.</b></div><div class=\"sk-container\" hidden><div class=\"sk-item\"><div class=\"sk-estimator sk-toggleable\"><input class=\"sk-toggleable__control sk-hidden--visually\" id=\"sk-estimator-id-1\" type=\"checkbox\" checked><label for=\"sk-estimator-id-1\" class=\"sk-toggleable__label sk-toggleable__label-arrow\">DecisionTreeRegressor</label><div class=\"sk-toggleable__content\"><pre>DecisionTreeRegressor(random_state=42)</pre></div></div></div></div></div>"
      ],
      "text/plain": [
       "DecisionTreeRegressor(random_state=42)"
      ]
     },
     "execution_count": 34,
     "metadata": {},
     "output_type": "execute_result"
    }
   ],
   "source": [
    "# Fit the model to the training data\n",
    "dt_regressor.fit(X_train, y_train)\n"
   ]
  },
  {
   "cell_type": "code",
   "execution_count": 35,
   "id": "430b3e2d",
   "metadata": {},
   "outputs": [],
   "source": [
    "# Make predictions on the testing set\n",
    "y_pred = dt_regressor.predict(X_test)\n"
   ]
  },
  {
   "cell_type": "code",
   "execution_count": 36,
   "id": "f1d7b6dd",
   "metadata": {},
   "outputs": [
    {
     "name": "stdout",
     "output_type": "stream",
     "text": [
      "Mean Squared Error: 1.1194133773189003\n"
     ]
    }
   ],
   "source": [
    "# Evaluate the model (for regression, you can use metrics like mean squared error)\n",
    "mse = mean_squared_error(y_test, y_pred)\n",
    "print(f'Mean Squared Error: {mse}')\n"
   ]
  },
  {
   "cell_type": "code",
   "execution_count": 37,
   "id": "f2c1060d",
   "metadata": {},
   "outputs": [
    {
     "name": "stdout",
     "output_type": "stream",
     "text": [
      "RMSE 1.058\n"
     ]
    }
   ],
   "source": [
    "print(\"RMSE\",round(np.sqrt(mean_squared_error(y_test,y_pred)), 3))     # Root Mean Squared Error\n"
   ]
  },
  {
   "cell_type": "code",
   "execution_count": null,
   "id": "0be5a22b",
   "metadata": {},
   "outputs": [],
   "source": []
  }
 ],
 "metadata": {
  "kernelspec": {
   "display_name": "Python 3 (ipykernel)",
   "language": "python",
   "name": "python3"
  },
  "language_info": {
   "codemirror_mode": {
    "name": "ipython",
    "version": 3
   },
   "file_extension": ".py",
   "mimetype": "text/x-python",
   "name": "python",
   "nbconvert_exporter": "python",
   "pygments_lexer": "ipython3",
   "version": "3.11.5"
  }
 },
 "nbformat": 4,
 "nbformat_minor": 5
}
